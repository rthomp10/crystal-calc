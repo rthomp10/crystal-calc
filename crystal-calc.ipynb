{
 "cells": [
  {
   "cell_type": "markdown",
   "metadata": {},
   "source": [
    "# Crystal Calc\n",
    "A collection of tools to make an engineer's life easier\n",
    "## Setup"
   ]
  },
  {
   "cell_type": "code",
   "execution_count": 4,
   "metadata": {},
   "outputs": [],
   "source": [
    "import numpy as np\n",
    "import matplotlib.pyplot as plt\n",
    "\n",
    "parallel = lambda a,b : (a*b)/(a+b)\n",
    "Fs  = lambda cm,lm       : 1 / (2 * np.pi * np.sqrt(lm * cm))\n",
    "Fa  = lambda fs,c0,cm    : fs * np.sqrt(1 + cm / c0)\n",
    "Ts  = lambda cm,c0,cl    : -( cm / ( 2 * ( c0 + cl )**2 ) )*1e-6\n",
    "Q   = lambda rm,lm,cm    : (1 / rm) * np.sqrt(lm / cm)\n",
    "Esr = lambda rm,c0,cl    : rm * (1 + c0 / cl)**2\n",
    "\n",
    "def Fl(fs,c0,cm,cl):\n",
    "    \"\"\"\n",
    "    Calculates the crystal frequency given a load and\n",
    "    the its equivalent spice parameters.\n",
    "\n",
    "    Parameters:\n",
    "        fs : Series resonant frequency in Hz\n",
    "        c0 : Shunt capacitance usually in pF (ex. 1.2e-12)\n",
    "        cm : Motional capacitance also known as c1 \n",
    "             usually in fF (ex. 2.4e-15)\n",
    "        cl : Plating load usually specified in the datasheet\n",
    "             usually in pF (ex. AB07-120-32.768kHz is 6pF == 6e-12)\n",
    "\n",
    "    Returns:\n",
    "        fl : The calculated crystal frequency\n",
    "        \n",
    "    \"\"\"\n",
    "    return fs * (1 + cm / (2 * (c0 + cl)))\n",
    "\n",
    "def power_predict(rm, fl, cl, c0, vout_peak):\n",
    "    \"\"\"\n",
    "    Predicts the drive level of an oscillator configuration \n",
    "    based on the Intel App Note AP-155.\n",
    "    \n",
    "    Parameters:\n",
    "        rm : Motional resistance (approximately ESR)\n",
    "        fl : Crystal resonant frequency in Hz\n",
    "        cl : Approximate plating load the crystal sees\n",
    "        c0 : Shunt capacitance of the crystal usually\n",
    "             in pF (ex. 1.2e-12)\n",
    "        vout_peak : This is the peak voltage seen on the output\n",
    "                    of the oscillator usually marked as xtal_out\n",
    "                    in the IC datasheet\n",
    "                    \n",
    "    Returns:\n",
    "        A power prediction in watts.\n",
    "    \"\"\"\n",
    "    return 2 * rm * (np.pi * fl * (cl + c0) * vout_peak)**2\n",
    "\n",
    "def find_cl(fs,c1,c0,fl):\n",
    "    \"\"\"Determines the plating load apparent to the crystal\"\"\"\n",
    "    return -c0 + c1 / (2 * (-1 + fl/fs))\n",
    "\n",
    "def hz2ppm(f, fnom):\n",
    "    \"\"\"Convertst a frequency deviation to ppm\"\"\"\n",
    "    return (f - fnom) * 1e6 / fnom\n",
    "\n",
    "def ppm2hz(ppm, f_nominal_hz):\n",
    "    \"\"\"Converts ppm to Hz\"\"\"\n",
    "    return f_nominal_hz + ppm * f_nominal_hz / 1e6\n",
    "\n",
    "def rms(peak2peak):\n",
    "    \"\"\"Calculates the rms value of the peak-to-peak measurement.\"\"\"\n",
    "    return peak2peak / (2 * np.sqrt(2))\n",
    "\n",
    "def Z(f,rm,cm,lm,c0):\n",
    "    \"\"\"Determines the impedance of a crystal at a certain frequency.\"\"\" \n",
    "    w = 2 * np.pi * f\n",
    "    return  parallel((rm + 1/(cm*w) + lm*w) , (1/(c0*2)))\n",
    "\n",
    "def analyze(rm,cm,lm,c0,cl):\n",
    "    \"\"\"\"\n",
    "    Displays the magnitude and phase response of a crystal\n",
    "    ~~ Not working at the moment ~~\n",
    "    \"\"\"\n",
    "    fs = Fs(cm,lm)\n",
    "    fa = Fa(fs,c0,cm)\n",
    "    fl = Fl(fs,c0,cm,cl)\n",
    "    q  = Q (rm,lm,cm)\n",
    "    \n",
    "    print(f\"fs = {fs}\")\n",
    "    print(f\"fa = {fa}\")\n",
    "    print(f\"fl = {fl}\")\n",
    "    print(f\"q  = {q }\")\n",
    "    \n",
    "    # Frequency sweep range calc\n",
    "    sweepstart = fs - 0.5*(fa-fs)\n",
    "    sweepend   = fa + 0.5*(fa-fs)\n",
    "    sweeprange = np.linspace(sweepstart, sweepend, 100000)\n",
    "    print(f\"sweep range = [{sweepstart},{sweepend}]\")\n",
    "    z = Z(sweeprange,rm,cm,lm,c0)\n",
    "    mag = np.abs(z)\n",
    "    phase = np.angle(z)\n",
    "    \n",
    "#     plt.plot(sweeprange, mag, label='magnitude')\n",
    "#     plt.plot(sweeprange, phase, label='phase')\n",
    "#     plt.legend()"
   ]
  },
  {
   "cell_type": "markdown",
   "metadata": {},
   "source": [
    "## Scrapbook"
   ]
  },
  {
   "cell_type": "code",
   "execution_count": 2,
   "metadata": {},
   "outputs": [
    {
     "name": "stdout",
     "output_type": "stream",
     "text": [
      "Current config\n",
      "F Current  = -53.71Hz\n",
      "Nominal DL = 33.46nW\n",
      "Max DL     = 34.06nW\n",
      "\n",
      "Worst Case\n",
      "F Current  = 1.04ppm\n",
      "Nominal DL = 24.73nW\n",
      "Max DL     = 25.17nW\n"
     ]
    }
   ],
   "source": [
    "fl = ppm2hz(2.41, 32768)\n",
    "fs = 32755.2452844868\n",
    "rm = 44213.21\n",
    "rm_max = 45e3\n",
    "cm = 6.67597348377331e-15\n",
    "c0 = 1.5194505369094e-12\n",
    "fmeas = 32766.24\n",
    "vout_peak = 0.4249 * np.sqrt(2)\n",
    "vin_peak  = 0.1852 * np.sqrt(2)\n",
    "cl_recommended = 7.03e-12\n",
    "fcur = hz2ppm(fmeas, 32768)\n",
    "measured_load = find_cl(fs, cm, c0, fmeas)\n",
    "\n",
    "pnw = power_predict(rm, fl, measured_load, c0, vout_peak) * 1e9\n",
    "pnw_max = power_predict(rm_max, fl, measured_load, c0, vout_peak) * 1e9\n",
    "\n",
    "fl_recommended = Fl(fs, c0, cm, cl_recommended)\n",
    "fl_ppm_recommended = hz2ppm(fl_recommended, 32768)\n",
    "cl_recommended = find_cl(fs, cm, c0, fl_recommended)\n",
    "pnw_recommended = power_predict(rm, fl_recommended, cl_recommended, c0, vout_peak) * 1e9\n",
    "pnw_max_recommended = power_predict(rm_max, fl_recommended, cl_recommended, c0, vout_peak) * 1e9\n",
    "\n",
    "print(\"Current config\")\n",
    "print(f\"F Current  = {fcur:.2f}Hz\")\n",
    "print(f\"Nominal DL = {pnw:.2f}nW\")\n",
    "print(f\"Max DL     = {pnw_max:.2f}nW\")\n",
    "print(f\"\\nWorst Case\")\n",
    "print(f\"F Current  = {fl_ppm_recommended:.2f}ppm\")\n",
    "print(f\"Nominal DL = {pnw_recommended:.2f}nW\")\n",
    "print(f\"Max DL     = {pnw_max_recommended:.2f}nW\")"
   ]
  },
  {
   "cell_type": "markdown",
   "metadata": {},
   "source": [
    "## Load to Freq Prediction"
   ]
  },
  {
   "cell_type": "code",
   "execution_count": 3,
   "metadata": {
    "scrolled": true
   },
   "outputs": [
    {
     "name": "stdout",
     "output_type": "stream",
     "text": [
      "FL:  32767.82\tppm:  -5.58\t@ 4.00pF\n",
      "FL:  32768.53\tppm:  16.15\t@ 3.75pF\n",
      "ΔFL: 0.71\tΔppm: 21.74\n",
      "Ts:  -82.73ppm/pF \n"
     ]
    }
   ],
   "source": [
    "fnom = 32768\n",
    "fs = None\n",
    "c0 = 1.11226379050365e-12\n",
    "cm = 4.3243121440552e-15\n",
    "cl = 4e-12\n",
    "cl_predict = 3.75e-12\n",
    "lm = 5460.03575083361\n",
    "rm = 0\n",
    "fs = Fs(cm, lm) \n",
    "\n",
    "fl = Fl(fs, c0, cm, cl)\n",
    "ppm = hz2ppm(fl, fnom)\n",
    "fl_predict = Fl(fs, c0, cm, cl_predict)\n",
    "ppm_predict = hz2ppm(fl_predict, fnom)\n",
    "\n",
    "print(f\"FL:  {fl:.2f}\\tppm:  {ppm:.2f}\\t@ {cl*1e12:.2f}pF\")\n",
    "print(f\"FL:  {fl_predict:.2f}\\tppm:  {ppm_predict:.2f}\\t@ {cl_predict*1e12:.2f}pF\")\n",
    "print(f\"ΔFL: {fl_predict - fl:.2f}\\tΔppm: {ppm_predict - ppm:.2f}\")\n",
    "print(f\"Ts:  {Ts(cm,c0,cl):.2f}ppm/pF \")"
   ]
  },
  {
   "cell_type": "markdown",
   "metadata": {},
   "source": [
    "## Drive Level Estimation"
   ]
  },
  {
   "cell_type": "code",
   "execution_count": 4,
   "metadata": {},
   "outputs": [
    {
     "name": "stdout",
     "output_type": "stream",
     "text": [
      "Rm   = 48214.91Ω\n",
      "C0   = 1.34pF\n",
      "CL   = 2.00pF\n",
      "ESR  = 134700.17Ω\n",
      "Ipp  = 36.01mA\n",
      "Irms = 12.73mA\n",
      "Prms = 21838402.85uW\n"
     ]
    }
   ],
   "source": [
    "# Crystal parameters\n",
    "rm = 48214.91\n",
    "c0 = 1.3429e-12\n",
    "cl = 2e-12 # Estimate\n",
    "\n",
    "# Current probe parameters\n",
    "Vcspp = 180.07e-3\n",
    "v2i = 1/5\n",
    "\n",
    "esr  = Esr(rm,c0,cl)\n",
    "i    = Vcspp * v2i\n",
    "irms = rms(i)\n",
    "p    = esr * irms**2\n",
    "\n",
    "print(f\"Rm   = {rm:.2f}Ω\")\n",
    "print(f\"C0   = {c0 * 1e12:.2f}pF\")\n",
    "print(f\"CL   = {cl * 1e12:.2f}pF\")\n",
    "print(f\"ESR  = {esr:.2f}Ω\")\n",
    "print(f\"Ipp  = {i*1e3:.2f}mA\")\n",
    "print(f\"Irms = {irms*1e3:.2f}mA\")\n",
    "print(f\"Prms = {p*1e6:.2f}uW\")"
   ]
  },
  {
   "cell_type": "markdown",
   "metadata": {},
   "source": [
    "# Plotting"
   ]
  },
  {
   "cell_type": "code",
   "execution_count": 7,
   "metadata": {},
   "outputs": [
    {
     "name": "stdout",
     "output_type": "stream",
     "text": [
      "fs = 32753.964260242337\n",
      "fa = 32806.65788045124\n",
      "fl = 32775.14921423685\n",
      "q  = 23305.469964983185\n",
      "sweep range = [32727.617450137885,32833.00469055569]\n",
      "FL ppm = 19.0625\n"
     ]
    },
    {
     "data": {
      "image/png": "[encoded data removed]",
      "text/plain": [
       "<Figure size 432x288 with 1 Axes>"
      ]
     },
     "metadata": {
      "needs_background": "light"
     },
     "output_type": "display_data"
    }
   ],
   "source": [
    "analyze(rm,cm,lm,c0,cl)\n",
    "clsweep = np.linspace(12e-12,25e-12, 1000)\n",
    "fl = Fl(fs, c0, cm, clsweep)\n",
    "ppm = hz2ppm(fl, 32e6)\n",
    "plt.plot(ppm+110, clsweep*1e12)\n",
    "plt.xlabel('FL (ppm)')\n",
    "plt.ylabel('CL (pF)')\n",
    "plt.title('ABM3B 16MHz')\n",
    "plt.grid(alpha=0.5)\n",
    "\n",
    "print(f\"FL ppm = {hz2ppm(32000610, 32e6)}\")"
   ]
  }
 ],
 "metadata": {
  "hide_input": false,
  "kernelspec": {
   "display_name": "Python 3",
   "language": "python",
   "name": "python3"
  },
  "language_info": {
   "codemirror_mode": {
    "name": "ipython",
    "version": 3
   },
   "file_extension": ".py",
   "mimetype": "text/x-python",
   "name": "python",
   "nbconvert_exporter": "python",
   "pygments_lexer": "ipython3",
   "version": "3.9.9"
  }
 },
 "nbformat": 4,
 "nbformat_minor": 4
}
