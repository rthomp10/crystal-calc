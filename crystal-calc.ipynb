{
 "cells": [
  {
   "cell_type": "markdown",
   "metadata": {},
   "source": [
    "# Crystal Calc\n",
    "A collection of tools to make an engineer's life easier\n",
    "## Setup"
   ]
  },
  {
   "cell_type": "code",
   "execution_count": 71,
   "metadata": {},
   "outputs": [],
   "source": [
    "import numpy as np\n",
    "import matplotlib.pyplot as plt\n",
    "\n",
    "parallel = lambda a,b : (a*b)/(a+b)\n",
    "Fs  = lambda cm,lm       : 1 / (2 * np.pi * np.sqrt(lm * cm))\n",
    "Fa  = lambda fs,c0,cm    : fs * np.sqrt(1 + cm / c0)\n",
    "Fl  = lambda fs,c0,cm,cl : fs * ( 1 + cm/( 2 * (c0 + cl) ) )\n",
    "Ts  = lambda cm,c0,cl    : -( cm / ( 2 * ( c0 + cl )**2 ) )*1e-6\n",
    "Q   = lambda rm,lm,cm    : (1 / rm) * np.sqrt(lm / cm)\n",
    "Esr = lambda rm,c0,cl    : rm * (1 + c0 / cl)**2\n",
    "Ppm = lambda freq,nom    : (freq-nom) * 1e6 / nom\n",
    "\n",
    "def rms(peak2peak):\n",
    "    \"\"\"\n",
    "    Calculates the rms value of the peak-to-peak measurement.\n",
    "    \"\"\"\n",
    "    return peak2peak / (2 * np.sqrt(2))\n",
    "\n",
    "def Z(f,rm,cm,lm,c0):\n",
    "    \"\"\"\n",
    "    Determines the impedance \n",
    "    of a crystal at a certain frequency.\n",
    "    \"\"\" \n",
    "    w = 2 * np.pi * f\n",
    "    return  parallel((rm + 1/(cm*w) + lm*w) , (1/(c0*2)))\n",
    "\n",
    "def analyze(rm,cm,lm,c0,cl):\n",
    "    \"\"\"\"\n",
    "    Displays the magnitude and phase response of a crystal\n",
    "    ~~ Not working at the moment ~~\n",
    "    \"\"\"\n",
    "    fs = Fs(cm,lm      )\n",
    "    fa = Fa(fs,c0,cm   )\n",
    "    fl = Fl(fs,c0,cm,cl)\n",
    "    q  = Q (rm,lm,cm   )\n",
    "    \n",
    "    print(f\"fs = {fs}\")\n",
    "    print(f\"fa = {fa}\")\n",
    "    print(f\"fl = {fl}\")\n",
    "    print(f\"q  = {q }\")\n",
    "    \n",
    "    # Frequency sweep range calc\n",
    "    sweepstart = fs - 0.5*(fa-fs)\n",
    "    sweepend   = fa + 0.5*(fa-fs)\n",
    "    sweeprange = np.linspace(sweepstart, sweepend, 100000)\n",
    "    print(f\"sweep range = [{sweepstart},{sweepend}]\")\n",
    "    z = Z(sweeprange,rm,cm,lm,c0)\n",
    "    mag = np.abs(z)\n",
    "    phase = np.angle(z)\n",
    "    \n",
    "#     plt.plot(sweeprange, mag, label='magnitude')\n",
    "#     plt.plot(sweeprange, phase, label='phase')\n",
    "#     plt.legend()"
   ]
  },
  {
   "cell_type": "markdown",
   "metadata": {},
   "source": [
    "## Load to Freq Prediction"
   ]
  },
  {
   "cell_type": "code",
   "execution_count": 83,
   "metadata": {
    "scrolled": true
   },
   "outputs": [
    {
     "name": "stdout",
     "output_type": "stream",
     "text": [
      "FL:  32767.82\tppm:  -5.58\t@ 4.00pF\n",
      "FL:  32768.53\tppm:  16.15\t@ 3.75pF\n",
      "ΔFL: 0.71\tΔppm: 21.74\n",
      "Ts:  -82.73ppm/pF \n"
     ]
    }
   ],
   "source": [
    "fnom = 32768\n",
    "fs = None\n",
    "c0 = 1.11226379050365e-12\n",
    "cm = 4.3243121440552e-15\n",
    "cl = 4e-12\n",
    "cl_predict = 3.75e-12\n",
    "lm = 5460.03575083361\n",
    "rm = 0\n",
    "fs = Fs(cm, lm) \n",
    "\n",
    "fl = Fl(fs, c0, cm, cl)\n",
    "ppm = Ppm(fl, fnom)\n",
    "print(f\"FL:  {fl:.2f}\\tppm:  {ppm:.2f}\\t@ {cl*1e12:.2f}pF\")\n",
    "\n",
    "fl_predict = Fl(fs, c0, cm, cl_predict)\n",
    "ppm_predict = Ppm(fl_predict, fnom)\n",
    "print(f\"FL:  {fl_predict:.2f}\\tppm:  {ppm_predict:.2f}\\t@ {cl_predict*1e12:.2f}pF\")\n",
    "\n",
    "print(f\"ΔFL: {fl_predict - fl:.2f}\\tΔppm: {ppm_predict - ppm:.2f}\")\n",
    "print(f\"Ts:  {Ts(cm,c0,cl):.2f}ppm/pF \")"
   ]
  },
  {
   "cell_type": "markdown",
   "metadata": {},
   "source": [
    "## Drive Level Estimation"
   ]
  },
  {
   "cell_type": "code",
   "execution_count": 30,
   "metadata": {},
   "outputs": [
    {
     "name": "stdout",
     "output_type": "stream",
     "text": [
      "Rm   = 40.00Ω\n",
      "C0   = 2.32pF\n",
      "CL   = 8.00pF\n",
      "ESR  = 66.56Ω\n",
      "Ipp  = 16.40mA\n",
      "Irms = 5.80mA\n",
      "Prms = 2237.88uW\n"
     ]
    }
   ],
   "source": [
    "# Crystal parameters\n",
    "rm = 48214.91\n",
    "c0 = 1.3429e-12\n",
    "cl = 2e-12 # Estimate\n",
    "\n",
    "# Current probe parameters\n",
    "Vcspp = 180.07e-3\n",
    "v2i = 1/5\n",
    "\n",
    "esr  = Esr(rm,c0,cl)\n",
    "i    = Vcspp * v2i\n",
    "irms = rms(i)\n",
    "p    = esr * irms**2\n",
    "\n",
    "print(f\"Rm   = {rm:.2f}Ω\")\n",
    "print(f\"C0   = {c0 * 1e12:.2f}pF\")\n",
    "print(f\"CL   = {cl * 1e12:.2f}pF\")\n",
    "print(f\"ESR  = {esr:.2f}Ω\")\n",
    "print(f\"Ipp  = {i*1e3:.2f}mA\")\n",
    "print(f\"Irms = {irms*1e3:.2f}mA\")\n",
    "print(f\"Prms = {p*1e6:.2f}uW\")"
   ]
  },
  {
   "cell_type": "markdown",
   "metadata": {},
   "source": [
    "# Plotting"
   ]
  },
  {
   "cell_type": "code",
   "execution_count": 39,
   "metadata": {},
   "outputs": [
    {
     "name": "stdout",
     "output_type": "stream",
     "text": [
      "fs = 31996239.999999974\n",
      "fa = 32033854.477266256\n",
      "fl = 32000228.61002589\n",
      "q  = 114987.19711730855\n",
      "sweep range = [31977432.761366833,32052661.715899397]\n",
      "FL ppm = 19.0625\n"
     ]
    },
    {
     "data": {
      "image/png": "[encoded data removed]",
      "text/plain": [
       "<Figure size 432x288 with 1 Axes>"
      ]
     },
     "metadata": {
      "needs_background": "light"
     },
     "output_type": "display_data"
    }
   ],
   "source": [
    "analyze(rm,cm,lm,c0,cl)\n",
    "clsweep = np.linspace(12e-12,25e-12, 1000)\n",
    "fl = Fl(fs, c0, cm, clsweep)\n",
    "ppm = Ppm(fl, 32e6)\n",
    "plt.plot(ppm+110, clsweep*1e12)\n",
    "plt.xlabel('FL (ppm)')\n",
    "plt.ylabel('CL (pF)')\n",
    "plt.title('ABM3B 16MHz')\n",
    "plt.grid(alpha=0.5)\n",
    "\n",
    "print(f\"FL ppm = {Ppm(32000610, 32e6)}\")"
   ]
  }
 ],
 "metadata": {
  "hide_input": false,
  "kernelspec": {
   "display_name": "Python 3",
   "language": "python",
   "name": "python3"
  },
  "language_info": {
   "codemirror_mode": {
    "name": "ipython",
    "version": 3
   },
   "file_extension": ".py",
   "mimetype": "text/x-python",
   "name": "python",
   "nbconvert_exporter": "python",
   "pygments_lexer": "ipython3",
   "version": "3.8.10"
  }
 },
 "nbformat": 4,
 "nbformat_minor": 4
}
